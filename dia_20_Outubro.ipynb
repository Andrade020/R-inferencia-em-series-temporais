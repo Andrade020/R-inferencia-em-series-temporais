{
  "cells": [
    {
      "cell_type": "markdown",
      "metadata": {
        "id": "XCn0oZYCiMww"
      },
      "source": [
        "# Dia 20 de Outubro\n",
        "\n",
        "Não tem OOP no R, então vou ter que usar funções, começando por construir o teste de Ljung Box"
      ]
    },
    {
      "cell_type": "code",
      "execution_count": null,
      "metadata": {
        "id": "ET0GPWFNXR9Z"
      },
      "outputs": [],
      "source": [
        "%load_ext rpy2.ipython"
      ]
    },
    {
      "cell_type": "markdown",
      "metadata": {
        "id": "LaVdLR8VW6bm"
      },
      "source": [
        "## Ex 7"
      ]
    },
    {
      "cell_type": "code",
      "execution_count": null,
      "metadata": {
        "colab": {
          "base_uri": "https://localhost:8080/"
        },
        "id": "TPYTb9cekhvy",
        "outputId": "3e2a86de-2445-4b4c-93ce-7cc1c0725c40"
      },
      "outputs": [],
      "source": [
        "%%R\n",
        "numeric(5)"
      ]
    },
    {
      "cell_type": "code",
      "execution_count": null,
      "metadata": {
        "id": "HmAUcGh2iQm6"
      },
      "outputs": [],
      "source": [
        "%%R\n",
        "teste_ljung_box_manual <- function(serie, k) {  # serie e qttd de lags\n",
        "\n",
        "  n <- length(serie)\n",
        "  media_serie <- mean(serie)\n",
        "\n",
        "  autocorrelacoes <- numeric(k)  # vetor de tamanho k com \"0's\"   - vou usar isso pra botar as autocorrs\n",
        "\n",
        "  # VARIANCIA <<<<<<<<<<<<<<<<<<<<<<<<<<<<<<<<\n",
        "  # gamma_0 = sum( (x_t - media)^2 ) / n\n",
        "  gamma_0 <- sum((serie - media_serie)^2) / n\n",
        "  #<<<<<<<<<<<<<<<<<<<<<<<<<<<<<<<<<<<<<<<<<<<\n",
        "\n",
        "  # Loop para cada lag de 1 até k\n",
        "  for (j in 1:k) {\n",
        "\n",
        "    # Calcular a autocovariância para o lag j\n",
        "    # gamma_j = sum( (x_t - media)*(x_{t-j} - media) ) / n\n",
        "    # Usamos vetores para isso: pegamos a série de (j+1) até o fim\n",
        "    # e a série do início até (n-j).\n",
        "    termo1 <- serie[(j+1):n] - media_serie\n",
        "    termo2 <- serie[1:(n-j)] - media_serie\n",
        "    gamma_j <- sum(termo1 * termo2) / n\n",
        "\n",
        "    # Calcular e guardar a autocorrelação (rho_j = gamma_j / gamma_0)\n",
        "    autocorrelacoes[j] <- gamma_j / gamma_0\n",
        "  }\n",
        "\n",
        "  # Passo 2: Calcular a estatística Q de Ljung-Box\n",
        "  soma_Q <- 0\n",
        "  for (j in 1:k) {\n",
        "    termo_soma <- autocorrelacoes[j]^2 / (n - j)\n",
        "    soma_Q <- soma_Q + termo_soma\n",
        "  }\n",
        "\n",
        "  estatistica_Q <- n * (n + 2) * soma_Q\n",
        "\n",
        "  # Passo 3: Calcular o p-valor\n",
        "  # A estatística Q segue uma distribuição Qui-Quadrado com 'k' graus de liberdade\n",
        "  # p-valor é a probabilidade de encontrar um valor >= Q\n",
        "  p_valor <- pchisq(estatistica_Q, df = k, lower.tail = FALSE)\n",
        "\n",
        "  # Retornar os resultados em uma lista\n",
        "  return(list(Q = estatistica_Q, p_valor = p_valor))\n",
        "}"
      ]
    },
    {
      "cell_type": "code",
      "execution_count": null,
      "metadata": {
        "colab": {
          "base_uri": "https://localhost:8080/"
        },
        "id": "GTzsK5_Yj1Zb",
        "outputId": "6ee3f6b1-1453-42da-c9a1-96262e4ce35d"
      },
      "outputs": [],
      "source": [
        "%%R\n",
        "# Gerando a série y_t novamente\n",
        "set.seed(123)\n",
        "modelo_arima <- list(order = c(1, 1, 1), ar = 0.8, ma = -0.4)\n",
        "y_t <- arima.sim(model = modelo_arima, n = 500)\n",
        "\n",
        "# Testando com lag 1\n",
        "resultado_y_lag1 <- teste_ljung_box_manual(y_t, k = 1)\n",
        "cat(\"--- Teste em y_t (ARIMA) ---\\n\")\n",
        "cat(\"Lag = 1:\\n\")\n",
        "cat(\"  Estatística Q =\", resultado_y_lag1$Q, \"\\n\")\n",
        "cat(\"  p-valor =\", resultado_y_lag1$p_valor, \"\\n\")\n",
        "\n",
        "# Testando com lag 5\n",
        "resultado_y_lag5 <- teste_ljung_box_manual(y_t, k = 5)\n",
        "cat(\"Lag = 5:\\n\")\n",
        "cat(\"  Estatística Q =\", resultado_y_lag5$Q, \"\\n\")\n",
        "cat(\"  p-valor =\", resultado_y_lag5$p_valor, \"\\n\\n\")"
      ]
    },
    {
      "cell_type": "code",
      "execution_count": null,
      "metadata": {
        "colab": {
          "base_uri": "https://localhost:8080/"
        },
        "id": "d7aeYTd-j52t",
        "outputId": "52cea2a8-6747-4897-de35-eba2c90efe94"
      },
      "outputs": [],
      "source": [
        "%%R\n",
        "# Gerando a série z_t (Ruído Branco)\n",
        "set.seed(456) # Usando outra semente\n",
        "n_z <- 200\n",
        "z_t <- rnorm(n_z, mean = 0, sd = sqrt(5))\n",
        "\n",
        "# Testando com lag 1\n",
        "resultado_z_lag1 <- teste_ljung_box_manual(z_t, k = 1)\n",
        "cat(\"--- Teste em z_t (Ruído Branco) ---\\n\")\n",
        "cat(\"Lag = 1:\\n\")\n",
        "cat(\"  Estatística Q =\", resultado_z_lag1$Q, \"\\n\")\n",
        "cat(\"  p-valor =\", resultado_z_lag1$p_valor, \"\\n\")\n",
        "\n",
        "# Testando com lag 5\n",
        "resultado_z_lag5 <- teste_ljung_box_manual(z_t, k = 5)\n",
        "cat(\"Lag = 5:\\n\")\n",
        "cat(\"  Estatística Q =\", resultado_z_lag5$Q, \"\\n\")\n",
        "cat(\"  p-valor =\", resultado_z_lag5$p_valor, \"\\n\\n\")"
      ]
    },
    {
      "cell_type": "code",
      "execution_count": null,
      "metadata": {
        "colab": {
          "base_uri": "https://localhost:8080/",
          "height": 694
        },
        "id": "ztzHGQ2Rj93p",
        "outputId": "21349332-99ea-4b6b-e8d6-2183bfbcd695"
      },
      "outputs": [],
      "source": [
        "%%R\n",
        "# Instalando e carregando a biblioteca para pegar os dados\n",
        "if (!require(\"quantmod\")) {\n",
        "  install.packages(\"quantmod\")\n",
        "  library(quantmod)\n",
        "}\n",
        "\n",
        "# Baixando dados do preço do petróleo (Crude Oil Futures, CL=F) de 2020 até hoje\n",
        "# Usaremos tryCatch para evitar erros se a internet falhar\n",
        "tryCatch({\n",
        "  getSymbols(\"CL=F\", src = \"yahoo\", from = \"2020-01-01\")\n",
        "\n",
        "  # Pegando os preços de fechamento ajustado e removendo dias sem dados (NA)\n",
        "  precos_petroleo <- na.omit(Cl(get(\"CL=F\")))\n",
        "\n",
        "  # Calcular os retornos logarítmicos (forma padrão de analisar retornos financeiros)\n",
        "  # retorno_t = log(preco_t) - log(preco_{t-1})\n",
        "  retornos_petroleo <- diff(log(precos_petroleo))\n",
        "  retornos_petroleo <- as.numeric(retornos_petroleo) # Converter para vetor simples\n",
        "\n",
        "  # Testando com lag 10\n",
        "  resultado_p_lag10 <- teste_ljung_box_manual(retornos_petroleo, k = 10)\n",
        "  cat(\"--- Teste nos Retornos do Petróleo ---\\n\")\n",
        "  cat(\"Lag = 10:\\n\")\n",
        "  cat(\"  Estatística Q =\", resultado_p_lag10$Q, \"\\n\")\n",
        "  cat(\"  p-valor =\", resultado_p_lag10$p_valor, \"\\n\")\n",
        "\n",
        "  # Testando com lag 15\n",
        "  resultado_p_lag15 <- teste_ljung_box_manual(retornos_petroleo, k = 15)\n",
        "  cat(\"Lag = 15:\\n\")\n",
        "  cat(\"  Estatística Q =\", resultado_p_lag15$Q, \"\\n\")\n",
        "  cat(\"  p-valor =\", resultado_p_lag15$p_valor, \"\\n\\n\")\n",
        "\n",
        "}, error = function(e) {\n",
        "  cat(\"Não foi possível baixar os dados do petróleo. Verifique sua conexão com a internet.\\n\")\n",
        "})"
      ]
    },
    {
      "cell_type": "markdown",
      "metadata": {
        "id": "yi1RefrYW97v"
      },
      "source": [
        "## AIC BIC aula passada"
      ]
    },
    {
      "cell_type": "markdown",
      "metadata": {
        "id": "xYornbHUXVVt"
      },
      "source": [
        "#### Função principal"
      ]
    },
    {
      "cell_type": "code",
      "execution_count": null,
      "metadata": {
        "id": "fUpLP1mcXAWi"
      },
      "outputs": [],
      "source": [
        "%%R\n",
        "#-----------------------------------------------------------------------------------\n",
        "# Função \"bruta\" para estimar um modelo AR(p) e calcular AIC/BIC\n",
        "#\n",
        "# Argumentos:\n",
        "#   serie: o vetor da série temporal\n",
        "#   p: a ordem do modelo AR a ser testado (ex: p=1 para AR(1))\n",
        "#\n",
        "# Retorna:\n",
        "#   Um data frame de uma linha com p, AIC e BIC\n",
        "#-----------------------------------------------------------------------------------\n",
        "calcular_aic_bic_manual <- function(serie, p) {\n",
        "\n",
        "  # Remove NAs no início, caso a série já seja diferenciada\n",
        "  serie <- na.omit(as.numeric(serie))\n",
        "  n_total <- length(serie)\n",
        "\n",
        "  # --- Passo 1: Estimar o modelo AR(p) via OLS (lm) ---\n",
        "\n",
        "  # O caso p=0 é um modelo apenas com intercepto (ruído branco com média)\n",
        "  if (p == 0) {\n",
        "    modelo <- lm(serie ~ 1)\n",
        "    # n efetivo é o total, k é só o intercepto\n",
        "    n <- n_total\n",
        "    k <- 1\n",
        "  } else {\n",
        "    # Para p > 0, precisamos criar as variáveis defasadas (lags)\n",
        "    # y_t ~ y_{t-1} + y_{t-2} + ...\n",
        "\n",
        "    # A função embed() é uma forma eficiente de criar essa matriz de lags\n",
        "    # A primeira coluna é y_t, as seguintes são y_{t-1}, y_{t-2}, etc.\n",
        "    dados_regressao <- embed(serie, p + 1)\n",
        "\n",
        "    y_t <- dados_regressao[, 1]\n",
        "    lags <- dados_regressao[, -1]\n",
        "\n",
        "    modelo <- lm(y_t ~ lags)\n",
        "\n",
        "    # n efetivo é o número de linhas na regressão (perdemos 'p' observações)\n",
        "    n <- nrow(dados_regressao)\n",
        "    # k é o número de coeficientes (p lags + 1 intercepto)\n",
        "    k <- p + 1\n",
        "  }\n",
        "\n",
        "  # --- Passo 2: Calcular a Soma dos Quadrados dos Resíduos (SQR) ---\n",
        "  residuos <- residuals(modelo)\n",
        "  sqr <- sum(residuos^2)\n",
        "\n",
        "  # --- Passo 3: Aplicar as fórmulas do AIC e BIC ---\n",
        "  aic <- 2 * k + n * log(sqr / n)\n",
        "  bic <- k * log(n) + n * log(sqr / n)\n",
        "\n",
        "  # Retornar o resultado\n",
        "  return(data.frame(p = p, AIC = aic, BIC = bic))\n",
        "}"
      ]
    },
    {
      "cell_type": "markdown",
      "metadata": {
        "id": "k9KY5dI7Xh7V"
      },
      "source": [
        "#### Random Walk"
      ]
    },
    {
      "cell_type": "code",
      "execution_count": null,
      "metadata": {
        "colab": {
          "base_uri": "https://localhost:8080/"
        },
        "id": "JFqYDu1pXjoC",
        "outputId": "8efc0cea-dabf-4ea2-8dcb-d1e34caefb88"
      },
      "outputs": [],
      "source": [
        "%%R\n",
        "\n",
        "# Recriando os dados da Tarefa 1\n",
        "set.seed(908293847)\n",
        "n <- 200\n",
        "eps <- rnorm(n)\n",
        "dados_rw <- data.frame(t = 1:n, y = cumsum(eps))\n",
        "dados_rw$dy <- dados_rw$y - dplyr::lag(dados_rw$y) # usando dplyr::lag para ser explícito\n",
        "\n",
        "# Série a ser analisada: a primeira diferença (dy)\n",
        "serie_rw_diff <- na.omit(dados_rw$dy)\n",
        "\n",
        "# --- Calculando AIC e BIC para diferentes ordens p ---\n",
        "# Vamos testar modelos de AR(0) a AR(5)\n",
        "resultados_rw <- data.frame()\n",
        "\n",
        "for (ordem_p in 0:5) {\n",
        "  resultado_p <- calcular_aic_bic_manual(serie_rw_diff, p = ordem_p)\n",
        "  resultados_rw <- rbind(resultados_rw, resultado_p)\n",
        "}\n",
        "\n",
        "# --- Resultados para o Random Walk (série diferenciada) ---\n",
        "cat(\"--- Tarefa 1: Resultados para a série diferenciada do Random Walk ---\\n\")\n",
        "print(resultados_rw)\n",
        "\n",
        "cat(\"\\nMelhor modelo pelo AIC:\", resultados_rw$p[which.min(resultados_rw$AIC)], \"\\n\")\n",
        "cat(\"Melhor modelo pelo BIC:\", resultados_rw$p[which.min(resultados_rw$BIC)], \"\\n\")"
      ]
    },
    {
      "cell_type": "markdown",
      "metadata": {
        "id": "caIYpYT5XoYO"
      },
      "source": [
        "#### AR 2"
      ]
    },
    {
      "cell_type": "code",
      "execution_count": null,
      "metadata": {
        "colab": {
          "base_uri": "https://localhost:8080/"
        },
        "id": "nuMsHOPpXq2G",
        "outputId": "12845d73-c845-47c2-e111-f3d0ff23ffe2"
      },
      "outputs": [],
      "source": [
        "%%R\n",
        "# Recriando os dados da Tarefa 2\n",
        "set.seed(42)\n",
        "n <- 200\n",
        "eps <- rnorm(n)\n",
        "# Usando as.numeric para garantir que é um vetor simples\n",
        "serie_ar2 <- as.numeric(stats::filter(eps, c(0.8, -0.3), \"recursive\"))\n",
        "\n",
        "# Nota: No seu código estava 0.3, mas para um AR(2) estacionário, o segundo coeficiente\n",
        "# geralmente é negativo. Vou usar -0.3 para garantir estacionariedade e um comportamento\n",
        "# mais típico, mas o código funcionaria com 0.3 também.\n",
        "# y[t] = 0.8*y[t-1] - 0.3*y[t-2] + e[t]\n",
        "\n",
        "\n",
        "# --- Calculando AIC e BIC para diferentes ordens p ---\n",
        "resultados_ar2 <- data.frame()\n",
        "\n",
        "for (ordem_p in 0:5) {\n",
        "  resultado_p <- calcular_aic_bic_manual(serie_ar2, p = ordem_p)\n",
        "  resultados_ar2 <- rbind(resultados_ar2, resultado_p)\n",
        "}\n",
        "\n",
        "# --- Resultados para o AR(2) ---\n",
        "cat(\"\\n--- Tarefa 2: Resultados para a série AR(2) ---\\n\")\n",
        "print(resultados_ar2)\n",
        "\n",
        "cat(\"\\nMelhor modelo pelo AIC:\", resultados_ar2$p[which.min(resultados_ar2$AIC)], \"\\n\")\n",
        "cat(\"Melhor modelo pelo BIC:\", resultados_ar2$p[which.min(resultados_ar2$BIC)], \"\\n\")"
      ]
    },
    {
      "cell_type": "markdown",
      "metadata": {
        "id": "0ZO44li9fQ66"
      },
      "source": [
        "### Ex 8"
      ]
    },
    {
      "cell_type": "code",
      "execution_count": null,
      "metadata": {
        "colab": {
          "base_uri": "https://localhost:8080/",
          "height": 913
        },
        "id": "JkglwripfTy9",
        "outputId": "6f96dfd8-a101-4166-ff06-fb9b69ce9030"
      },
      "outputs": [],
      "source": [
        "%%R\n",
        "\n",
        "install.packages(\"fpp2\")     # pacote principal de séries temporais\n",
        "\n",
        "\n",
        "library(fpp2)\n",
        "\n",
        "# 'patchwork' para combinar os gráficos facilmente.\n",
        "if (!require(\"patchwork\")) {\n",
        "  install.packages(\"patchwork\")\n",
        "  library(patchwork)\n",
        "}\n",
        "\n",
        "# 'timetk' para facilitar a conversão de 'ts' para data.frame (opcional, mas bom)\n",
        "if (!require(\"timetk\")) {\n",
        "    install.packages(\"timetk\")\n",
        "    library(timetk)\n",
        "}\n",
        "\n",
        "\n",
        "# --- Passo 2: Preparar os dados ---\n",
        "\n",
        "# O objeto 'a10' é do tipo 'ts' (time series).\n",
        "# Vamos convertê-lo para um data.frame para usar com o ggplot2.\n",
        "dados_a10_df <- tk_tbl(a10, rename_index = \"data\") %>%\n",
        "  rename(vendas = value)\n",
        "\n",
        "\n",
        "# --- Passo 3: Gerar os três gráficos solicitados ---\n",
        "\n",
        "# Gráfico 1: A série original\n",
        "p1 <- ggplot(dados_a10_df, aes(x = data, y = vendas)) +\n",
        "  geom_line(color = \"steelblue\") +\n",
        "  labs(title = \"1. Série Original: Vendas de Medicamentos (a10)\",\n",
        "       subtitle = \"Observa-se tendência de crescimento e sazonalidade com variância crescente.\",\n",
        "       x = \"Data\",\n",
        "       y = \"Vendas Mensais\") +\n",
        "  theme_minimal()\n",
        "\n",
        "# Gráfico 2: O log da série\n",
        "# Primeiro, adicionamos a coluna de log ao nosso data.frame\n",
        "dados_a10_df$log_vendas <- log(dados_a10_df$vendas)\n",
        "\n",
        "p2 <- ggplot(dados_a10_df, aes(x = data, y = log_vendas)) +\n",
        "  geom_line(color = \"darkgreen\") +\n",
        "  labs(title = \"2. Série em Logaritmo: log(a10)\",\n",
        "       subtitle = \"A variância agora parece estável, mas a tendência e a sazonalidade persistem.\",\n",
        "       x = \"Data\",\n",
        "       y = \"Log(Vendas)\") +\n",
        "  theme_minimal()\n",
        "\n",
        "# Gráfico 3: A diferença sazonal da série em log\n",
        "# A função diff() com lag=12 calcula a diferença sazonal para dados mensais.\n",
        "dados_a10_df$diff_sazonal_log <- c(rep(NA, 12), diff(dados_a10_df$log_vendas, lag = 12))\n",
        "\n",
        "p3 <- ggplot(na.omit(dados_a10_df), aes(x = data, y = diff_sazonal_log)) +\n",
        "  geom_line(color = \"firebrick\") +\n",
        "  labs(title = \"3. Diferença Sazonal da Série em Log\",\n",
        "       subtitle = \"A série agora parece estacionária, sem tendência ou sazonalidade clara.\",\n",
        "       x = \"Data\",\n",
        "       y = \"Diferença Sazonal\") +\n",
        "  theme_minimal()\n",
        "\n",
        "# --- Passo 4: Combinar e exibir os gráficos ---\n",
        "\n",
        "# Usando o patchwork para empilhar os três gráficos\n",
        "(p1 / p2 / p3)"
      ]
    },
    {
      "cell_type": "markdown",
      "metadata": {
        "id": "H5jB8ZfCqia-"
      },
      "source": [
        "### Ex 9"
      ]
    },
    {
      "cell_type": "code",
      "execution_count": null,
      "metadata": {
        "colab": {
          "base_uri": "https://localhost:8080/",
          "height": 549
        },
        "id": "AjBv7gCOl1nc",
        "outputId": "ba701475-bb50-4d7d-b63a-ff44a43f990b"
      },
      "outputs": [],
      "source": [
        "%%R\n",
        "\n",
        "# --- PASSO 1: INSTALAR OS PACOTES MODERNOS ---\n",
        "# fpp3 é o sucessor do fpp2. tsibbledata contém os dados.\n",
        "# quiet = TRUE para não poluir a saída com mensagens de instalação.\n",
        "if (!require(\"fpp3\", quiet = TRUE)) {\n",
        "  install.packages(\"fpp3\", quiet = TRUE)\n",
        "}\n",
        "\n",
        "# --- PASSO 2: CARREGAR A BIBLIOTECA ---\n",
        "# Carregar o fpp3 carrega automaticamente ggplot2, dplyr, e o principal: tsibble.\n",
        "library(fpp3)\n",
        "cat(\"Pacote fpp3 e seu ecossistema carregados com sucesso.\\n\\n\")\n",
        "\n",
        "\n",
        "# --- PASSO 3: ACESSAR E PLOTAR OS DADOS CORRETOS ---\n",
        "# O dado 'us_change' é o equivalente moderno do 'usconsumption'.\n",
        "# Ele já é carregado automaticamente com o fpp3.\n",
        "# A coluna que queremos se chama 'Consumption'.\n",
        "\n",
        "cat(\"Gerando o gráfico com o conjunto de dados 'us_change'...\\n\")\n",
        "\n",
        "autoplot(us_change, Consumption) +\n",
        "  labs(title = \"Gastos de Consumo Pessoal nos EUA (Trimestral)\",\n",
        "       subtitle = \"Dados de 'us_change' (equivalente a 'usconsumption')\",\n",
        "       x = \"Ano\",\n",
        "       y = \"Variação Percentual do Consumo\") +\n",
        "  theme_bw()"
      ]
    },
    {
      "cell_type": "code",
      "execution_count": null,
      "metadata": {
        "colab": {
          "base_uri": "https://localhost:8080/",
          "height": 549
        },
        "id": "5KIwcOSnoh-R",
        "outputId": "286f0d55-ccdf-4abe-e824-f528ac50b58c"
      },
      "outputs": [],
      "source": [
        "%%R\n",
        "# Carregamos o pacote fpp3\n",
        "library(fpp3)\n",
        "\n",
        "# Selecionamos APENAS a coluna 'Consumption' com o operador $\n",
        "ggtsdisplay(us_change$Consumption, lag_max = 20)"
      ]
    },
    {
      "cell_type": "code",
      "execution_count": null,
      "metadata": {
        "colab": {
          "base_uri": "https://localhost:8080/",
          "height": 497
        },
        "id": "J8qbLWXdoXRr",
        "outputId": "be47b2e1-2b39-4927-d5e8-59333134dc6a"
      },
      "outputs": [],
      "source": [
        "%%R\n",
        "library(fpp3)\n",
        "\n",
        "# 1. Calcula a ACF da variável Consumption dentro do tsibble us_change\n",
        "acf_plot <- us_change %>%\n",
        "  ACF(Consumption, lag_max = 20) %>%\n",
        "  autoplot() +\n",
        "  labs(title = \"Autocorrelation Function (ACF)\")\n",
        "\n",
        "# 2. Calcula a PACF da variável Consumption\n",
        "pacf_plot <- us_change %>%\n",
        "  PACF(Consumption, lag_max = 20) %>%\n",
        "  autoplot() +\n",
        "  labs(title = \"Partial Autocorrelation Function (PACF)\")\n",
        "\n",
        "# 3. Usa o patchwork (do fpp3) para mostrar os dois gráficos juntos\n",
        "acf_plot / pacf_plot"
      ]
    },
    {
      "cell_type": "code",
      "execution_count": null,
      "metadata": {
        "colab": {
          "base_uri": "https://localhost:8080/",
          "height": 277
        },
        "id": "Fk7hA3ponhZ_",
        "outputId": "4e209fa7-e002-441d-a114-2cecbc47a1a4"
      },
      "outputs": [],
      "source": [
        "%%R\n",
        "# Carregamos o pacote fpp3\n",
        "library(fpp3)\n",
        "\n",
        "# Exemplo de como seria a sintaxe (NÃO É NECESSÁRIO EXECUTAR PARA ESTE EXERCÍCIO)\n",
        "us_change_transformado <- us_change %>%\n",
        "  mutate(\n",
        "    # Aplicando o logaritmo\n",
        "    log_consumo = log(Consumption),\n",
        "\n",
        "    # Aplicando a primeira diferença ao log\n",
        "    # A função é difference() em vez de diff()\n",
        "    diff_log_consumo = difference(log_consumo)\n",
        "  )\n",
        "\n",
        "# Imprime as primeiras linhas para ver as novas colunas\n",
        "head(us_change_transformado)"
      ]
    },
    {
      "cell_type": "markdown",
      "metadata": {
        "id": "fJdffEQFrdsG"
      },
      "source": [
        "### Ex 10"
      ]
    },
    {
      "cell_type": "code",
      "execution_count": null,
      "metadata": {
        "colab": {
          "base_uri": "https://localhost:8080/"
        },
        "id": "TMnKxOk6rcGV",
        "outputId": "f60e0d74-3626-405f-9722-650815e52d26"
      },
      "outputs": [],
      "source": [
        "%%R\n",
        "# Carregamos a biblioteca moderna para séries temporais\n",
        "library(fpp3)\n",
        "\n",
        "# Ajustamos o modelo ARIMA automaticamente à série de Consumo\n",
        "# O fpp3 é inteligente e testa vários modelos para encontrar o melhor\n",
        "# com base no critério de informação (AICc)\n",
        "modelo_final <- us_change %>%\n",
        "  model(ARIMA(Consumption))\n",
        "\n",
        "# Vamos ver rapidamente qual modelo foi escolhido\n",
        "report(modelo_final)"
      ]
    },
    {
      "cell_type": "code",
      "execution_count": null,
      "metadata": {
        "colab": {
          "base_uri": "https://localhost:8080/",
          "height": 601
        },
        "id": "2WiY1mikrja_",
        "outputId": "038618ea-e3dc-46d0-a92b-be080831e7d1"
      },
      "outputs": [],
      "source": [
        "%%R\n",
        "# Esta função cria os gráficos de resíduos, ACF e histograma de uma vez\n",
        "gg_tsresiduals(modelo_final, lag_max = 20) +\n",
        "  labs(title = \"Diagnóstico Gráfico dos Resíduos do Modelo ARIMA\")"
      ]
    },
    {
      "cell_type": "code",
      "execution_count": null,
      "metadata": {
        "colab": {
          "base_uri": "https://localhost:8080/",
          "height": 497
        },
        "id": "jjLsN2jgrnqN",
        "outputId": "c28b23f0-f898-44d8-f970-d181b705531c"
      },
      "outputs": [],
      "source": [
        "%%R\n",
        "# Primeiro, extraímos os resíduos do modelo\n",
        "residuos_df <- residuals(modelo_final)\n",
        "\n",
        "# Criamos o QQ-Plot\n",
        "# A função qqnorm plota os quantis, e qqline desenha a linha de referência\n",
        "qqnorm(residuos_df$.resid, main = \"Normal Q-Q Plot dos Resíduos\")\n",
        "qqline(residuos_df$.resid, col = \"red\", lwd = 2)"
      ]
    },
    {
      "cell_type": "code",
      "execution_count": null,
      "metadata": {
        "colab": {
          "base_uri": "https://localhost:8080/"
        },
        "id": "07lRsgxKrqom",
        "outputId": "ef05d250-9f4d-4661-b79c-c321eb993b84"
      },
      "outputs": [],
      "source": [
        "%%R\n",
        "# Extraímos os resíduos\n",
        "residuos_df <- residuals(modelo_final)\n",
        "\n",
        "# Realizamos o teste de Ljung-Box nos resíduos\n",
        "# A função features() é a maneira do fpp3 de calcular estatísticas\n",
        "residuos_df %>%\n",
        "  features(.resid, ljung_box, lag = 20)"
      ]
    },
    {
      "cell_type": "code",
      "execution_count": null,
      "metadata": {
        "colab": {
          "base_uri": "https://localhost:8080/"
        },
        "id": "RP9RWxjRrtK9",
        "outputId": "81cb11a3-faf6-44c6-c4b8-0cfec4066040"
      },
      "outputs": [],
      "source": [
        "%%R\n",
        "# Instala o pacote se necessário e o carrega\n",
        "if (!require(\"tseries\")) {\n",
        "  install.packages(\"tseries\")\n",
        "}\n",
        "library(tseries)\n",
        "\n",
        "# Extrai os resíduos do nosso modelo\n",
        "residuos_vec <- residuals(modelo_final)$.resid\n",
        "\n",
        "# Realiza o teste de Jarque-Bera\n",
        "jarque.bera.test(residuos_vec)"
      ]
    }
  ],
  "metadata": {
    "colab": {
      "provenance": []
    },
    "kernelspec": {
      "display_name": "Python 3",
      "name": "python3"
    },
    "language_info": {
      "name": "python"
    }
  },
  "nbformat": 4,
  "nbformat_minor": 0
}
